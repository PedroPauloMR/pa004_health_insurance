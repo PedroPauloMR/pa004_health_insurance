{
 "cells": [
  {
   "cell_type": "markdown",
   "id": "13a41d20",
   "metadata": {},
   "source": [
    "# Planejamento da solução"
   ]
  },
  {
   "cell_type": "markdown",
   "id": "73fe29ad",
   "metadata": {},
   "source": [
    "É necessário escolher 2000 pessoas dentro de uma base de 14000 a serem contactadas para ser oferecido uma promoção de seguro baseado em cross-sell"
   ]
  },
  {
   "cell_type": "markdown",
   "id": "c7f6d9e2",
   "metadata": {},
   "source": [
    "## Entrada"
   ]
  },
  {
   "cell_type": "markdown",
   "id": "f6b71a50",
   "metadata": {},
   "source": [
    "1. Problema de negócio\n",
    "- selecionar os 2000 leads mais prováveis de fechar o pacote de seguro\n",
    "2. Conjunto de dados\n",
    "- banco postgres 12.0 disponibilizado na AWS contendo 3 tabelas (users, insurances and vehicles)"
   ]
  },
  {
   "cell_type": "markdown",
   "id": "53c196c4",
   "metadata": {},
   "source": [
    "## Saída"
   ]
  },
  {
   "cell_type": "markdown",
   "id": "56bcbab1",
   "metadata": {
    "ExecuteTime": {
     "end_time": "2023-04-23T19:10:00.778290Z",
     "start_time": "2023-04-23T19:10:00.761306Z"
    }
   },
   "source": [
    "1. Indicação das pessoas que serão abordadas via cold call\n",
    "- lista user_id | is_insurance_list | 50000 | yes/1 | no/1 | 43000\n",
    "\n",
    "2. Relatório om as perguntas de negócio:\n",
    "    - Quem são as pessoas elegíveis para entrar na lista ?\n",
    "    - Quantos clientes farão parte do grupo ?\n",
    "    - Quais as principais características desses clientes ?\n",
    "    - Qual a porcentagem de contribuição do annual_premium, vinda da lista ?\n",
    "    - Qual a expectativa de faturamento desse grupo para os próximos meses ?\n",
    "    - Quais as condições para uma pessoa ser elegível na lista ?\n",
    "    - Quais as condições para uma pessoa ser removida da lista ?\n",
    "    - Qual a garantia que a listagem dos 2k é melhor que o restante da base ?\n",
    "    - Quais ações o time de marketing pode realizar para aumentar a lista ?"
   ]
  },
  {
   "cell_type": "markdown",
   "id": "48867057",
   "metadata": {},
   "source": [
    "## Tarefas"
   ]
  },
  {
   "cell_type": "markdown",
   "id": "172e9b65",
   "metadata": {},
   "source": [
    "- Quem são as pessoas elegíveis para participar da listagem ?\n",
    "    - O que é ser elegível ? O que são clientes de maior \"valor\" ?\n",
    "        - Tem carro ?\n",
    "        - Tempo de habilitação ?\n",
    "        - Gênero ?\n",
    "        - Idade ?\n",
    "        - Região ?\n",
    "        \n",
    "        \n",
    "- Quantos clientes farão parte do grupo ?\n",
    "    - Número total de clientes\n",
    "    - % clientes Insiders\n",
    "    \n",
    "- Quais as principais características desses clientes ?\n",
    "    - Escrever características do cliente:\n",
    "        - Idade\n",
    "        - Localização\n",
    "        \n",
    "    - Escrever características de consumo:\n",
    "        - Atributos da clusterização\n",
    "        \n",
    "        \n",
    "- Qual a porcentagem de contribuição do faturamento, vinda dos Insiders ?\n",
    "    - Faturamento total do ano\n",
    "    - Faturamento do grupo Insiders\n",
    "    \n",
    "- Qual a expectativa de faturamento desse grupo para os próximos meses ?\n",
    "    - LTV do grupo Insiders\n",
    "    - Análise de Cohort\n",
    "    \n",
    "- Quais as condições para uma pessoa ser elegível ao Insiders ?\n",
    "    - Definir periodicidade (1 mês, 3 meses ...)\n",
    "    - A pessoa precisa ser similar ou parecida com outra pessoa do grupo\n",
    "    \n",
    "- Quais as condições para uma pessoa ser removida do Insiders ?\n",
    "    - Definir periodicidade (1 mês, 3 meses ...)\n",
    "    - A pessoa precisa ser dessimilar ou não parecida com outra pessoa do grupo\n",
    "    \n",
    "- Qual a garantia que o programa Insiders é melhor que o restante da base ?\n",
    "    - Teste A/B\n",
    "    - Teste de hipóteses\n",
    "    - Teste A/B Bayesiano\n",
    "\n",
    "- Quais ações o time de marketing pode realizar para aumentar a listagem ?\n",
    "     - Desconto\n",
    "     - Preferencia de compra\n",
    "     - Frete\n",
    "     - Visita a empresa"
   ]
  },
  {
   "cell_type": "code",
   "execution_count": null,
   "id": "b8fec17f",
   "metadata": {},
   "outputs": [],
   "source": []
  }
 ],
 "metadata": {
  "hide_input": false,
  "kernelspec": {
   "display_name": "Python 3 (ipykernel)",
   "language": "python",
   "name": "python3"
  },
  "language_info": {
   "codemirror_mode": {
    "name": "ipython",
    "version": 3
   },
   "file_extension": ".py",
   "mimetype": "text/x-python",
   "name": "python",
   "nbconvert_exporter": "python",
   "pygments_lexer": "ipython3",
   "version": "3.8.13"
  },
  "toc": {
   "base_numbering": 1,
   "nav_menu": {},
   "number_sections": true,
   "sideBar": true,
   "skip_h1_title": false,
   "title_cell": "Table of Contents",
   "title_sidebar": "Contents",
   "toc_cell": false,
   "toc_position": {},
   "toc_section_display": true,
   "toc_window_display": true
  }
 },
 "nbformat": 4,
 "nbformat_minor": 5
}

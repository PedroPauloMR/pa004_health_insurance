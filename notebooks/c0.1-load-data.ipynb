{
 "cells": [
  {
   "cell_type": "markdown",
   "id": "68b953a5",
   "metadata": {},
   "source": [
    "# Libs"
   ]
  },
  {
   "cell_type": "code",
   "execution_count": 1,
   "id": "f887f7db",
   "metadata": {
    "ExecuteTime": {
     "end_time": "2023-04-23T19:33:51.407108Z",
     "start_time": "2023-04-23T19:33:51.399759Z"
    }
   },
   "outputs": [],
   "source": [
    "import pandas as pd\n",
    "from sqlalchemy import create_engine\n",
    "import numpy as np\n",
    "from dotenv import load_dotenv\n",
    "import os"
   ]
  },
  {
   "cell_type": "code",
   "execution_count": null,
   "id": "78f218bd",
   "metadata": {},
   "outputs": [],
   "source": []
  },
  {
   "cell_type": "markdown",
   "id": "58a79bf3",
   "metadata": {},
   "source": [
    "# Conexão banco de dados"
   ]
  },
  {
   "cell_type": "code",
   "execution_count": 2,
   "id": "c6822247",
   "metadata": {
    "ExecuteTime": {
     "end_time": "2023-04-23T19:33:28.000006Z",
     "start_time": "2023-04-23T19:33:27.983407Z"
    }
   },
   "outputs": [],
   "source": [
    "load_dotenv()\n",
    "host = os.getenv('PA004_HOST')\n",
    "database = os.getenv('PA004_DATABASE')\n",
    "user = os.getenv('PA004_USER')\n",
    "password = os.getenv('PA004_PWD')\n",
    "port = os.getenv('PA004_PORT')"
   ]
  },
  {
   "cell_type": "code",
   "execution_count": 3,
   "id": "f1756d16",
   "metadata": {
    "ExecuteTime": {
     "end_time": "2023-04-24T22:05:36.068555Z",
     "start_time": "2023-04-24T22:05:35.927441Z"
    }
   },
   "outputs": [
    {
     "name": "stdout",
     "output_type": "stream",
     "text": [
      "Connection failed. Error:  (psycopg2.OperationalError) could not translate host name \"comunidade-ds-postgres.c50pcakiuwi3.us-east-1.rds.amazonaws.com\" to address: Unknown host\n",
      "\n",
      "(Background on this error at: https://sqlalche.me/e/14/e3q8)\n"
     ]
    }
   ],
   "source": [
    "# PostgreSQL connection string\n",
    "postgre_string = 'postgresql://{}:{}@{}:{}/{}'.format(user,password,host,port,database)\n",
    "\n",
    "# Create the engine\n",
    "conn = create_engine(postgre_string)\n",
    "\n",
    "# Test the connection\n",
    "try:\n",
    "    with conn.connect() as connection:\n",
    "        print(\"Connection successful!\")\n",
    "        sql = \"SELECT * FROM pa004.insurance i limit 100\"\n",
    "        df = pd.read_sql(sql, conn)\n",
    "        print(df.head())\n",
    "        conn.dispose()\n",
    "except Exception as e:\n",
    "    print(\"Connection failed. Error: \", e)"
   ]
  },
  {
   "cell_type": "code",
   "execution_count": null,
   "id": "85a051ab",
   "metadata": {},
   "outputs": [],
   "source": []
  }
 ],
 "metadata": {
  "hide_input": false,
  "kernelspec": {
   "display_name": "Python 3 (ipykernel)",
   "language": "python",
   "name": "python3"
  },
  "language_info": {
   "codemirror_mode": {
    "name": "ipython",
    "version": 3
   },
   "file_extension": ".py",
   "mimetype": "text/x-python",
   "name": "python",
   "nbconvert_exporter": "python",
   "pygments_lexer": "ipython3",
   "version": "3.8.13"
  },
  "toc": {
   "base_numbering": 1,
   "nav_menu": {},
   "number_sections": true,
   "sideBar": true,
   "skip_h1_title": false,
   "title_cell": "Table of Contents",
   "title_sidebar": "Contents",
   "toc_cell": false,
   "toc_position": {},
   "toc_section_display": true,
   "toc_window_display": false
  }
 },
 "nbformat": 4,
 "nbformat_minor": 5
}
